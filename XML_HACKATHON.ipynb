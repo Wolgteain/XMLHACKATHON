{
  "cells": [
    {
      "cell_type": "markdown",
      "metadata": {
        "id": "view-in-github",
        "colab_type": "text"
      },
      "source": [
        "<a href=\"https://colab.research.google.com/github/Wolgteain/XMLHACKATHON/blob/main/XML_HACKATHON.ipynb\" target=\"_parent\"><img src=\"https://colab.research.google.com/assets/colab-badge.svg\" alt=\"Open In Colab\"/></a>"
      ]
    },
    {
      "cell_type": "code",
      "execution_count": null,
      "metadata": {
        "colab": {
          "background_save": true,
          "base_uri": "https://localhost:8080/"
        },
        "id": "8dGyD20ccZGF",
        "outputId": "18c899b3-8312-413d-c1ac-d3326725a7a5"
      },
      "outputs": [
        {
          "name": "stdout",
          "output_type": "stream",
          "text": [
            "\n",
            "1. AEK Verisi Ekle\n",
            "2. AEK Verilerini Listele\n",
            "3. Çıkış\n"
          ]
        }
      ],
      "source": [
        "import xml.etree.ElementTree as ET\n",
        "import os\n",
        "\n",
        "# XML dosyasının adı\n",
        "xml_file = 'aek_data.xml'\n",
        "\n",
        "# AEK verilerini toplamak için bir fonksiyon\n",
        "def collect_aek_data():\n",
        "    title = input(\"Başlık: \")\n",
        "    subject = input(\"Anahtar Kelimeler: \")\n",
        "    description = input(\"Özet bilgi: \")\n",
        "    creator = input(\"Oluşturan kişi/kuruluş: \")\n",
        "    license = input(\"Açık Lisans: \")\n",
        "    language = input(\"Dil: \")\n",
        "    identifier = input(\"Kaynağın URL'si: \")\n",
        "\n",
        "    return {\n",
        "        'title': title,\n",
        "        'subject': subject,\n",
        "        'description': description,\n",
        "        'creator': creator,\n",
        "        'license': license,\n",
        "        'language': language,\n",
        "        'identifier': identifier\n",
        "    }\n",
        "\n",
        "# Verileri XML formatında kaydetmek için bir fonksiyon\n",
        "def save_to_xml(data):\n",
        "    if os.path.exists(xml_file):\n",
        "        tree = ET.parse(xml_file)\n",
        "        root = tree.getroot()\n",
        "    else:\n",
        "        root = ET.Element(\"AEK\")\n",
        "\n",
        "    entry = ET.SubElement(root, \"Entry\")\n",
        "    for key, value in data.items():\n",
        "        element = ET.SubElement(entry, key)\n",
        "        element.text = value\n",
        "\n",
        "    tree = ET.ElementTree(root)\n",
        "    tree.write(xml_file, encoding='utf-8', xml_declaration=True)\n",
        "\n",
        "# XML dosyasından verileri okumak için bir fonksiyon\n",
        "def read_from_xml():\n",
        "    if not os.path.exists(xml_file):\n",
        "        print(\"XML dosyası bulunamadı.\")\n",
        "        return []\n",
        "\n",
        "    tree = ET.parse(xml_file)\n",
        "    root = tree.getroot()\n",
        "    entries = []\n",
        "\n",
        "    for entry in root.findall('Entry'):\n",
        "        data = {child.tag: child.text for child in entry}\n",
        "        entries.append(data)\n",
        "\n",
        "    return entries\n",
        "\n",
        "# Listeleme ve filtreleme için bir fonksiyon\n",
        "def list_aek_data(entries):\n",
        "    if not entries:\n",
        "        print(\"Hiç veri bulunamadı.\")\n",
        "        return\n",
        "\n",
        "    print(\"\\nAEK Verileri:\")\n",
        "    for index, entry in enumerate(entries):\n",
        "        print(f\"{index + 1}. Başlık: {entry['title']}, URL: {entry['identifier']}\")\n",
        "\n",
        "    search_term = input(\"\\nBir başlık arayın (boş bırakmak için Enter'a basın): \")\n",
        "    if search_term:\n",
        "        filtered_entries = [entry for entry in entries if search_term.lower() in entry['title'].lower()]\n",
        "        print(\"\\nFiltrelenmiş AEK Verileri:\")\n",
        "        for index, entry in enumerate(filtered_entries):\n",
        "            print(f\"{index + 1}. Başlık: {entry['title']}, URL: {entry['identifier']}\")\n",
        "    else:\n",
        "        print(\"\\nTüm veriler listelendi.\")\n",
        "\n",
        "# Ana program akışı\n",
        "def main():\n",
        "    while True:\n",
        "        print(\"\\n1. AEK Verisi Ekle\")\n",
        "        print(\"2. AEK Verilerini Listele\")\n",
        "        print(\"3. Çıkış\")\n",
        "        choice = input(\"Seçiminizi yapın: \")\n",
        "\n",
        "        if choice == '1':\n",
        "            data = collect_aek_data()\n",
        "            save_to_xml(data)\n",
        "            print(\"Veri başarıyla kaydedildi.\")\n",
        "        elif choice == '2':\n",
        "            entries = read_from_xml()\n",
        "            list_aek_data(entries)\n",
        "        elif choice == '3':\n",
        "            break\n",
        "        else:\n",
        "            print(\"Geçersiz seçim. Lütfen tekrar deneyin.\")\n",
        "\n",
        "if __name__ == \"__main__\":\n",
        "    main()"
      ]
    }
  ],
  "metadata": {
    "colab": {
      "provenance": [],
      "authorship_tag": "ABX9TyPm508umgzzrFlJgSrcO7Or",
      "include_colab_link": true
    },
    "kernelspec": {
      "display_name": "Python 3",
      "name": "python3"
    },
    "language_info": {
      "name": "python"
    }
  },
  "nbformat": 4,
  "nbformat_minor": 0
}